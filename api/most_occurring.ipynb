{
 "cells": [
  {
   "cell_type": "code",
   "execution_count": 22,
   "metadata": {},
   "outputs": [],
   "source": [
    "import pickle\n",
    "import pathlib\n",
    "\n",
    "import numpy as np\n",
    "import pandas as pd\n",
    "\n",
    "%matplotlib inline\n",
    "import matplotlib.pyplot as plt\n",
    "import seaborn as sns"
   ]
  },
  {
   "cell_type": "code",
   "execution_count": 24,
   "metadata": {},
   "outputs": [],
   "source": [
    "df = pd.read_csv('/Users/pedropertusi/Desktop/4o semestre/ML/ames/data/raw/ames.csv')\n",
    "\n",
    "df.drop(columns=['Order', 'PID', 'SalePrice'], inplace=True)\n",
    "\n",
    "\n",
    "df['MS.SubClass'] = df['MS.SubClass'].apply(lambda x: str(x))\n",
    "df['Mo.Sold'] = df['Mo.Sold'].apply(lambda x: str(x))\n",
    "df['Yr.Sold'] = df['Yr.Sold'].apply(lambda x: str(x))\n",
    "\n",
    "# get the most occurring value for all categorical features\n",
    "most_occuring = {}\n",
    "\n",
    "for col in df.columns:\n",
    "    if df[col].dtype == 'object' or df[col].dtype == 'category':\n",
    "        most_occuring[col] = df[col].value_counts().keys()[0]\n",
    "    else:\n",
    "        most_occuring[col] = df[col].mean()\n",
    "\n",
    "#save the dictionary to a df\n",
    "pd.DataFrame(most_occuring, index=[0]).to_csv('most_occuring.csv', index=False)\n",
    "x = pd.DataFrame(most_occuring, index=[0])"
   ]
  }
 ],
 "metadata": {
  "kernelspec": {
   "display_name": "ml",
   "language": "python",
   "name": "python3"
  },
  "language_info": {
   "codemirror_mode": {
    "name": "ipython",
    "version": 3
   },
   "file_extension": ".py",
   "mimetype": "text/x-python",
   "name": "python",
   "nbconvert_exporter": "python",
   "pygments_lexer": "ipython3",
   "version": "3.11.4"
  }
 },
 "nbformat": 4,
 "nbformat_minor": 2
}
