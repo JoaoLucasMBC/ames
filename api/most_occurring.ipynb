{
 "cells": [
  {
   "cell_type": "code",
   "execution_count": 1,
   "metadata": {},
   "outputs": [],
   "source": [
    "import pickle\n",
    "import pathlib\n",
    "\n",
    "import numpy as np\n",
    "import pandas as pd\n",
    "\n",
    "%matplotlib inline\n",
    "import matplotlib.pyplot as plt\n",
    "import seaborn as sns"
   ]
  },
  {
   "cell_type": "code",
   "execution_count": 2,
   "metadata": {},
   "outputs": [],
   "source": [
    "df = pd.read_csv('old_data.csv')\n",
    "\n",
    "# get the most occurring value for all categorical features\n",
    "most_occuring = {}\n",
    "\n",
    "for col in df.columns:\n",
    "    if df[col].dtype == 'object':\n",
    "        most_occuring[col] = df[col].value_counts().keys()[0]\n",
    "    else:\n",
    "        most_occuring[col] = df[col].mean()\n",
    "\n",
    "#save the dictionary to a df\n",
    "pd.DataFrame(most_occuring, index=[0]).to_csv('most_occuring.csv', index=False)"
   ]
  },
  {
   "cell_type": "code",
   "execution_count": 3,
   "metadata": {},
   "outputs": [
    {
     "name": "stdout",
     "output_type": "stream",
     "text": [
      "<class 'pandas.core.frame.DataFrame'>\n",
      "RangeIndex: 2877 entries, 0 to 2876\n",
      "Data columns (total 69 columns):\n",
      " #   Column           Non-Null Count  Dtype  \n",
      "---  ------           --------------  -----  \n",
      " 0   MS.SubClass      2877 non-null   object \n",
      " 1   MS.Zoning        2877 non-null   object \n",
      " 2   Lot.Frontage     2877 non-null   float64\n",
      " 3   Lot.Area         2877 non-null   float64\n",
      " 4   Lot.Shape        2877 non-null   object \n",
      " 5   Land.Contour     2877 non-null   object \n",
      " 6   Lot.Config       2877 non-null   object \n",
      " 7   Land.Slope       2877 non-null   object \n",
      " 8   Neighborhood     2877 non-null   object \n",
      " 9   Bldg.Type        2877 non-null   object \n",
      " 10  House.Style      2877 non-null   object \n",
      " 11  Overall.Qual     2877 non-null   int64  \n",
      " 12  Overall.Cond     2877 non-null   int64  \n",
      " 13  Roof.Style       2877 non-null   object \n",
      " 14  Mas.Vnr.Type     1154 non-null   object \n",
      " 15  Mas.Vnr.Area     2877 non-null   float64\n",
      " 16  Exter.Qual       2877 non-null   object \n",
      " 17  Exter.Cond       2877 non-null   object \n",
      " 18  Foundation       2877 non-null   object \n",
      " 19  Bsmt.Qual        2804 non-null   object \n",
      " 20  Bsmt.Cond        2804 non-null   object \n",
      " 21  Bsmt.Exposure    2801 non-null   object \n",
      " 22  BsmtFin.Type.1   2804 non-null   object \n",
      " 23  BsmtFin.SF.1     2877 non-null   float64\n",
      " 24  BsmtFin.Type.2   2803 non-null   object \n",
      " 25  BsmtFin.SF.2     2877 non-null   float64\n",
      " 26  Bsmt.Unf.SF      2877 non-null   float64\n",
      " 27  Total.Bsmt.SF    2877 non-null   float64\n",
      " 28  Heating.QC       2877 non-null   object \n",
      " 29  Central.Air      2877 non-null   object \n",
      " 30  Electrical       2877 non-null   object \n",
      " 31  X1st.Flr.SF      2877 non-null   float64\n",
      " 32  X2nd.Flr.SF      2877 non-null   float64\n",
      " 33  Low.Qual.Fin.SF  2877 non-null   float64\n",
      " 34  Gr.Liv.Area      2877 non-null   float64\n",
      " 35  Bsmt.Full.Bath   2877 non-null   float64\n",
      " 36  Bsmt.Half.Bath   2877 non-null   float64\n",
      " 37  Full.Bath        2877 non-null   float64\n",
      " 38  Half.Bath        2877 non-null   float64\n",
      " 39  Bedroom.AbvGr    2877 non-null   float64\n",
      " 40  Kitchen.AbvGr    2877 non-null   float64\n",
      " 41  Kitchen.Qual     2877 non-null   object \n",
      " 42  TotRms.AbvGrd    2877 non-null   float64\n",
      " 43  Functional       2877 non-null   object \n",
      " 44  Fireplaces       2877 non-null   float64\n",
      " 45  Garage.Type      2877 non-null   object \n",
      " 46  Garage.Finish    2877 non-null   object \n",
      " 47  Garage.Cars      2877 non-null   float64\n",
      " 48  Garage.Area      2877 non-null   float64\n",
      " 49  Paved.Drive      2877 non-null   object \n",
      " 50  Wood.Deck.SF     2877 non-null   float64\n",
      " 51  Open.Porch.SF    2877 non-null   float64\n",
      " 52  Enclosed.Porch   2877 non-null   float64\n",
      " 53  X3Ssn.Porch      2877 non-null   float64\n",
      " 54  Screen.Porch     2877 non-null   float64\n",
      " 55  Pool.Area        2877 non-null   float64\n",
      " 56  Fence            2877 non-null   object \n",
      " 57  Misc.Val         2877 non-null   float64\n",
      " 58  Mo.Sold          2877 non-null   float64\n",
      " 59  Yr.Sold          2877 non-null   float64\n",
      " 60  Sale.Type        2877 non-null   object \n",
      " 61  Sale.Condition   2877 non-null   object \n",
      " 62  Condition        2877 non-null   object \n",
      " 63  HasShed          2877 non-null   bool   \n",
      " 64  HasAlley         2877 non-null   bool   \n",
      " 65  Exterior         2877 non-null   object \n",
      " 66  Garage.Age       2877 non-null   float64\n",
      " 67  Remod.Age        2877 non-null   float64\n",
      " 68  House.Age        2877 non-null   float64\n",
      "dtypes: bool(2), float64(33), int64(2), object(32)\n",
      "memory usage: 1.5+ MB\n"
     ]
    }
   ],
   "source": [
    "df.info()"
   ]
  }
 ],
 "metadata": {
  "kernelspec": {
   "display_name": "ml",
   "language": "python",
   "name": "python3"
  },
  "language_info": {
   "codemirror_mode": {
    "name": "ipython",
    "version": 3
   },
   "file_extension": ".py",
   "mimetype": "text/x-python",
   "name": "python",
   "nbconvert_exporter": "python",
   "pygments_lexer": "ipython3",
   "version": "3.11.4"
  }
 },
 "nbformat": 4,
 "nbformat_minor": 2
}
